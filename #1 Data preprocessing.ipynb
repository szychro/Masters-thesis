{
 "cells": [
  {
   "cell_type": "code",
   "execution_count": null,
   "id": "de51cea0",
   "metadata": {},
   "outputs": [],
   "source": [
    "import pandas as pd\n",
    "import numpy as np\n",
    "from scipy.stats import zscore"
   ]
  },
  {
   "cell_type": "code",
   "execution_count": null,
   "id": "4bb590cd",
   "metadata": {},
   "outputs": [],
   "source": [
    "def preprocess_data(filename, columns_to_drop, categorical_mappings=None):\n",
    "    # Load the dataset\n",
    "    data = pd.read_csv(filename, decimal=\",\")\n",
    "    \n",
    "    # Set the index\n",
    "    data.set_index(data.columns[0], inplace=True)\n",
    "    \n",
    "    # Drop unused columns\n",
    "    data.drop(columns_to_drop, axis=1, inplace=True)\n",
    "    \n",
    "    # Handle categorical variables\n",
    "    if categorical_mappings:\n",
    "        for column, mapping in categorical_mappings.items():\n",
    "            data[column] = data[column].fillna(-1)\n",
    "            data.replace({column: mapping}, inplace=True)\n",
    "    \n",
    "    # Fill missing values\n",
    "    columns_to_fill_median = ['AGE', 'WBC', 'HB', 'PLT', 'LDH', 'BMB', 'PBB', 'FLT3R']\n",
    "    columns_to_fill_minus1 = data.columns.difference(columns_to_fill_median)\n",
    "    continuous_variables =[]\n",
    "    \n",
    "    for column in columns_to_fill_median:\n",
    "        median_value = data[column].median()\n",
    "        data[column].fillna(median_value, inplace=True)\n",
    "    \n",
    "    for column in columns_to_fill_minus1:\n",
    "        data[column].fillna(-1, inplace=True)\n",
    "    \n",
    "    # Normalize continuous variables\n",
    "    scaler = StandardScaler()\n",
    "    data[continuous_variables] = scaler.fit_transform(data[continuous_variables])\n",
    "    \n",
    "    return data"
   ]
  },
  {
   "cell_type": "code",
   "execution_count": null,
   "id": "0b9cdc7f",
   "metadata": {},
   "outputs": [],
   "source": [
    "def save_processed_data(data, output_path):\n",
    "    data.to_csv(output_path)"
   ]
  },
  {
   "cell_type": "code",
   "execution_count": null,
   "id": "06bb9410",
   "metadata": {},
   "outputs": [],
   "source": [
    "# Define parameters\n",
    "input_filename = 'path_to_input_file.csv'\n",
    "output_filename = 'path_to_output_file.csv'\n",
    "columns_to_drop = ['Sex male', 'sex female', ...]  # List of columns to drop\n",
    "categorical_mappings = {'SEX': {\"f\": 1, \"m\": 0}, 'CEBPASTAT': {\"WT\": 1, ...}}  # Categorical mappings\n",
    "\n",
    "# Preprocess the data\n",
    "processed_data = preprocess_data(input_filename, columns_to_drop, categorical_mappings)\n",
    "\n",
    "# Save the processed data\n",
    "save_processed_data(processed_data, output_filename)"
   ]
  }
 ],
 "metadata": {
  "kernelspec": {
   "display_name": "Python 3 (ipykernel)",
   "language": "python",
   "name": "python3"
  },
  "language_info": {
   "codemirror_mode": {
    "name": "ipython",
    "version": 3
   },
   "file_extension": ".py",
   "mimetype": "text/x-python",
   "name": "python",
   "nbconvert_exporter": "python",
   "pygments_lexer": "ipython3",
   "version": "3.9.12"
  }
 },
 "nbformat": 4,
 "nbformat_minor": 5
}
