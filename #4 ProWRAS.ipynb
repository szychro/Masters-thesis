{
 "cells": [
  {
   "cell_type": "code",
   "execution_count": null,
   "id": "d4e602b3",
   "metadata": {},
   "outputs": [],
   "source": [
    "import Library.prowras\n",
    "import csv\n",
    "import numpy as np #works with 1.21.1 version"
   ]
  },
  {
   "cell_type": "code",
   "execution_count": null,
   "id": "8c79edbb",
   "metadata": {},
   "outputs": [],
   "source": [
    "def load_data(filename):\n",
    "    data = np.genfromtxt(filename, delimiter=\",\", skip_header=1) #Use any delimiter that works for you\n",
    "    labels = data[:, -1]\n",
    "    features = data[:,1 :-1]\n",
    "    return features, labels"
   ]
  },
  {
   "cell_type": "code",
   "execution_count": null,
   "id": "cfccc92f",
   "metadata": {},
   "outputs": [],
   "source": [
    "def preprocess_labels(labels):\n",
    "    # Modify the labels as needed\n",
    "    #labels = np.where(labels == 1, 0, labels)\n",
    "    labels = np.where(labels == 2, 0, labels)\n",
    "    labels = np.where(labels == 3, 0, labels)\n",
    "    labels = np.where(labels == 4, 0, labels)\n",
    "    return labels"
   ]
  },
  {
   "cell_type": "code",
   "execution_count": null,
   "id": "d5f99406",
   "metadata": {},
   "outputs": [],
   "source": [
    "def get_column_names(filename):\n",
    "    with open(filename, 'r') as f:\n",
    "        first_row = f.readline().strip()  # Read the first row as a string\n",
    "        column_names = first_row.split(\",\")[1:]  #Split by tab assuming that the first column is an index\n",
    "        print(\"Extracted column names:\", column_names)\n",
    "    return column_names"
   ]
  },
  {
   "cell_type": "code",
   "execution_count": null,
   "id": "df6d3500",
   "metadata": {},
   "outputs": [],
   "source": [
    "def save_data(input_filename, output_filename):\n",
    "    column_names = get_column_names(input_filename)\n",
    "    features, labels = load_data(input_filename)\n",
    "    labels = preprocess_labels(labels)\n",
    "\n",
    "    synth = Library.prowras.ProWRAS_gen(features, labels,\n",
    "                                        max_levels=5,\n",
    "                                        convex_nbd=5,\n",
    "                                        n_neighbors=5,\n",
    "                                        max_concov=5,\n",
    "                                        num_samples_to_generate=1400,\n",
    "                                        theta=1.1,\n",
    "                                        shadow=7,\n",
    "                                        sigma=0.4,\n",
    "                                        n_jobs=1)\n",
    "\n",
    "    heading = list(column_names)  # Use the original column names as headers\n",
    "    #heading.append(\"clusters_pred\")\n",
    "\n",
    "    with open(output_filename, \"w\", newline=\"\") as f:\n",
    "        w = csv.writer(f)\n",
    "        w.writerow(heading)\n",
    "        for point, label in zip(synth[0], synth[1]):\n",
    "            point = list(point)\n",
    "            point.append(label)\n",
    "            w.writerow(point)"
   ]
  },
  {
   "cell_type": "code",
   "execution_count": null,
   "id": "449dd892",
   "metadata": {},
   "outputs": [],
   "source": [
    "input_filename = 'path_to_input_file.csv'\n",
    "output_filename = 'path_to_output_file.csv'\n",
    "save_data(input_filename, output_filename)"
   ]
  }
 ],
 "metadata": {
  "kernelspec": {
   "display_name": "Python 3 (ipykernel)",
   "language": "python",
   "name": "python3"
  },
  "language_info": {
   "codemirror_mode": {
    "name": "ipython",
    "version": 3
   },
   "file_extension": ".py",
   "mimetype": "text/x-python",
   "name": "python",
   "nbconvert_exporter": "python",
   "pygments_lexer": "ipython3",
   "version": "3.11.4"
  }
 },
 "nbformat": 4,
 "nbformat_minor": 5
}
