{
 "cells": [
  {
   "cell_type": "code",
   "execution_count": 1,
   "id": "137c037e",
   "metadata": {},
   "outputs": [],
   "source": [
    "import pandas as pd\n",
    "import numpy as np\n",
    "from sklearn.ensemble import RandomForestClassifier\n",
    "from sklearn.linear_model import LogisticRegression\n",
    "from sklearn.neighbors import KNeighborsClassifier\n",
    "from sklearn.inspection import permutation_importance\n",
    "import matplotlib.pyplot as plt"
   ]
  },
  {
   "cell_type": "code",
   "execution_count": 2,
   "id": "efd9f0b4",
   "metadata": {},
   "outputs": [],
   "source": [
    "def load_data(filename, index_col=None):\n",
    "    data = pd.read_csv(filename, na_values='NULL', decimal=\",\")\n",
    "    if index_col:\n",
    "        data.set_index(index_col, inplace=True)\n",
    "    return data"
   ]
  },
  {
   "cell_type": "code",
   "execution_count": 3,
   "id": "6fa567fd",
   "metadata": {},
   "outputs": [],
   "source": [
    "def calculate_and_plot_importance(model, X, y, method, plot_filename):\n",
    "    model.fit(X, y)\n",
    "    importance = model.feature_importances_ if method == \"RandomForest\" else model.coef_[0]\n",
    "        \n",
    "    sorted_idx = np.argsort(importance)[::-1]\n",
    "    sorted_importance = [(X.columns[index], importance[index]) for index in sorted_idx]\n",
    "    \n",
    "    print(sorted_importance)\n",
    "    \n",
    "    df_importance = pd.DataFrame(sorted_importance, columns=['Features', 'Importance'])\n",
    "    df_max_importance = df_importance.nlargest(30, 'Importance')\n",
    "    df_max_importance.plot(kind='bar', x='Features', y='Importance')\n",
    "    plt.tight_layout()\n",
    "    plt.savefig(plot_filename, facecolor='w')\n",
    "    plt.show()"
   ]
  },
  {
   "cell_type": "code",
   "execution_count": null,
   "id": "e370f86d",
   "metadata": {},
   "outputs": [],
   "source": [
    "input_filename = 'path_to_input_file.csv'\n",
    "index_col = 'Pat'  # Column to set as index\n",
    "\n",
    "# Load data\n",
    "data = load_data(input_filename, index_col)\n",
    "\n",
    "X = data.drop('target_column_name', axis=1)\n",
    "y = data['target_column_name']\n",
    "\n",
    "# Random Forest Classifier\n",
    "rf_model = RandomForestClassifier(random_state=0)\n",
    "calculate_and_plot_importance(rf_model, X, y, \"RandomForest\", 'path_to_save_random_forest_plot.png')\n",
    "\n",
    "# Logistic Regression\n",
    "lr_model = LogisticRegression()\n",
    "calculate_and_plot_importance(lr_model, X, y, \"LogisticRegression\", 'path_to_save_logistic_regression_plot.png')"
   ]
  }
 ],
 "metadata": {
  "kernelspec": {
   "display_name": "Python 3 (ipykernel)",
   "language": "python",
   "name": "python3"
  },
  "language_info": {
   "codemirror_mode": {
    "name": "ipython",
    "version": 3
   },
   "file_extension": ".py",
   "mimetype": "text/x-python",
   "name": "python",
   "nbconvert_exporter": "python",
   "pygments_lexer": "ipython3",
   "version": "3.11.4"
  }
 },
 "nbformat": 4,
 "nbformat_minor": 5
}
