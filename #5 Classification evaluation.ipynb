{
 "cells": [
  {
   "cell_type": "code",
   "execution_count": null,
   "id": "635a8be0",
   "metadata": {},
   "outputs": [],
   "source": [
    "import pandas as pd\n",
    "import matplotlib.pyplot as plt\n",
    "from sklearn.ensemble import RandomForestClassifier\n",
    "from sklearn.model_selection import train_test_split\n",
    "from sklearn.metrics import accuracy_score, confusion_matrix, plot_confusion_matrix, recall_score, f1_score\n",
    "from sklearn.metrics import roc_curve, auc"
   ]
  },
  {
   "cell_type": "code",
   "execution_count": null,
   "id": "878a1660",
   "metadata": {},
   "outputs": [],
   "source": [
    "def load_and_preprocess_data(filename):\n",
    "    data = pd.read_csv(filename, na_values='NULL')\n",
    "    data.set_index('Pat', inplace=True)\n",
    "\n",
    "    # Major cluster receive label 1, the rest 0\n",
    "    data[\"clusters_pred\"].replace([2, 3], 0, inplace=True)\n",
    "\n",
    "    return data"
   ]
  },
  {
   "cell_type": "code",
   "execution_count": null,
   "id": "9a2e4de1",
   "metadata": {},
   "outputs": [],
   "source": [
    "def train_random_forest(X_train, y_train, random_state=1):\n",
    "    classifier = RandomForestClassifier(random_state=random_state)\n",
    "    classifier.fit(X_train, y_train)\n",
    "    return classifier"
   ]
  },
  {
   "cell_type": "code",
   "execution_count": null,
   "id": "722b337f",
   "metadata": {},
   "outputs": [],
   "source": [
    "def evaluate_classifier(classifier, X_test, y_test):\n",
    "    predictions = classifier.predict(X_test)\n",
    "    \n",
    "    accuracy = accuracy_score(y_test, predictions)\n",
    "    confusion = confusion_matrix(y_test, predictions)\n",
    "    recall = recall_score(y_test, predictions)\n",
    "    f1 = f1_score(y_test, predictions)\n",
    "    \n",
    "    return accuracy, confusion, recall, f1"
   ]
  },
  {
   "cell_type": "code",
   "execution_count": null,
   "id": "d119aa87",
   "metadata": {},
   "outputs": [],
   "source": [
    "def plot_roc_curve(classifier, X_test, y_test):\n",
    "    class_probabilities = classifier.predict_proba(X_test)\n",
    "    preds = class_probabilities[:, 1]\n",
    "\n",
    "    fpr, tpr, _ = roc_curve(y_test, preds)\n",
    "    roc_auc = auc(fpr, tpr)\n",
    "\n",
    "    plt.figure()\n",
    "    plt.title('Receiver Operating Characteristic')\n",
    "    plt.plot(fpr, tpr, 'b', label = 'AUC = %0.2f' % roc_auc)\n",
    "    plt.legend(loc = 'lower right')\n",
    "    plt.plot([0, 1], [0, 1],'r--')\n",
    "    plt.xlim([0, 1])\n",
    "    plt.ylim([0, 1])\n",
    "    plt.ylabel('True Positive Rate')\n",
    "    plt.xlabel('False Positive Rate')\n",
    "    plt.show()"
   ]
  },
  {
   "cell_type": "code",
   "execution_count": null,
   "id": "893a60ae",
   "metadata": {},
   "outputs": [],
   "source": [
    "# Define paths and other parameters\n",
    "input_filename = \"path_to_input_file.csv\"\n",
    "random_state = 1\n",
    "\n",
    "# Load and preprocess data\n",
    "data = load_and_preprocess_data(input_filename)\n",
    "\n",
    "# Split the data into features and target variable\n",
    "X = data.iloc[:, :-1]\n",
    "y = data['clusters_pred']\n",
    "X_train, X_test, y_train, y_test = train_test_split(X, y, test_size=0.3, random_state=random_state)\n",
    "\n",
    "# Train Random Forest classifier\n",
    "classifier = train_random_forest(X_train, y_train, random_state=random_state)\n",
    "\n",
    "# Evaluate classifier\n",
    "accuracy, confusion, recall, f1 = evaluate_classifier(classifier, X_test, y_test)\n",
    "print(f\"Accuracy of the classifier is: {accuracy}\")\n",
    "print(\"Confusion Matrix:\")\n",
    "print(confusion)\n",
    "print(f\"Recall Score of the classifier is: {recall}\")\n",
    "print(f\"F1 Score of the classifier is: {f1}\")\n",
    "\n",
    "# Plot ROC Curve\n",
    "plot_roc_curve(classifier, X_test, y_test)"
   ]
  }
 ],
 "metadata": {
  "kernelspec": {
   "display_name": "Python 3 (ipykernel)",
   "language": "python",
   "name": "python3"
  },
  "language_info": {
   "codemirror_mode": {
    "name": "ipython",
    "version": 3
   },
   "file_extension": ".py",
   "mimetype": "text/x-python",
   "name": "python",
   "nbconvert_exporter": "python",
   "pygments_lexer": "ipython3",
   "version": "3.9.12"
  }
 },
 "nbformat": 4,
 "nbformat_minor": 5
}
