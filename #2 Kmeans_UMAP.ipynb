{
 "cells": [
  {
   "cell_type": "code",
   "execution_count": null,
   "id": "312bd539",
   "metadata": {},
   "outputs": [],
   "source": [
    "import numpy as np\n",
    "import matplotlib.pyplot as plt\n",
    "import pandas as pd\n",
    "from sklearn.cluster import KMeans\n",
    "import umap.umap_ as umap\n",
    "from sklearn import preprocessing\n",
    "from sklearn.preprocessing import MinMaxScaler"
   ]
  },
  {
   "cell_type": "code",
   "execution_count": null,
   "id": "1bd7bef1",
   "metadata": {},
   "outputs": [],
   "source": [
    "def load_data(filename, index_col=None):\n",
    "    data = pd.read_csv(filename, decimal=\",\")\n",
    "    if index_col:\n",
    "        data.set_index(index_col, inplace=True)\n",
    "    return data"
   ]
  },
  {
   "cell_type": "code",
   "execution_count": null,
   "id": "e5b82774",
   "metadata": {},
   "outputs": [],
   "source": [
    "def apply_kmeans(data, n_clusters):\n",
    "    kmeans = KMeans(n_clusters)\n",
    "    clusters_pred = kmeans.fit_predict(data)\n",
    "    return clusters_pred"
   ]
  },
  {
   "cell_type": "code",
   "execution_count": null,
   "id": "427750cb",
   "metadata": {},
   "outputs": [],
   "source": [
    "def apply_umap(data, n_neighbors=15, min_dist=0.1, random_state=None):\n",
    "    embedding = umap.UMAP(n_neighbors=n_neighbors, min_dist=min_dist, random_state=random_state).fit_transform(data)\n",
    "    return embedding"
   ]
  },
  {
   "cell_type": "code",
   "execution_count": null,
   "id": "072c2335",
   "metadata": {},
   "outputs": [],
   "source": [
    "def visualize_clusters(embedding, cluster_labels, cmap='Dark2'):\n",
    "    plt.figure(figsize=(15, 10))\n",
    "    plt.scatter(embedding[:, 0], embedding[:, 1], c=cluster_labels, s=5, cmap=cmap)\n",
    "    plt.show()"
   ]
  },
  {
   "cell_type": "code",
   "execution_count": null,
   "id": "500a1e87",
   "metadata": {},
   "outputs": [],
   "source": [
    "def save_clustered_data(data, cluster_labels, output_filename):\n",
    "    clustered_data = data.copy()\n",
    "    clustered_data['clusters_pred'] = cluster_labels\n",
    "    clustered_data.to_csv(output_filename)"
   ]
  },
  {
   "cell_type": "code",
   "execution_count": null,
   "id": "49cd5a76",
   "metadata": {},
   "outputs": [],
   "source": [
    "# Define parameters\n",
    "input_filename = 'path_to_input_file.csv'\n",
    "output_filename = 'path_to_output_file.csv'\n",
    "n_clusters = 4  # Number of clusters for KMeans\n",
    "index_col = 'SUBJID'  # Column to set as index\n",
    "\n",
    "# Load data\n",
    "data = load_data(input_filename, index_col)\n",
    "\n",
    "# Apply KMeans\n",
    "cluster_labels = apply_kmeans(data, n_clusters)\n",
    "\n",
    "# Apply UMAP\n",
    "embedding = apply_umap(data, random_state=42)\n",
    "\n",
    "# Visualize clusters\n",
    "visualize_clusters(embedding, cluster_labels)\n",
    "\n",
    "# Save clustered data\n",
    "save_clustered_data(data, cluster_labels, output_filename)"
   ]
  }
 ],
 "metadata": {
  "kernelspec": {
   "display_name": "Python 3 (ipykernel)",
   "language": "python",
   "name": "python3"
  },
  "language_info": {
   "codemirror_mode": {
    "name": "ipython",
    "version": 3
   },
   "file_extension": ".py",
   "mimetype": "text/x-python",
   "name": "python",
   "nbconvert_exporter": "python",
   "pygments_lexer": "ipython3",
   "version": "3.9.12"
  }
 },
 "nbformat": 4,
 "nbformat_minor": 5
}
